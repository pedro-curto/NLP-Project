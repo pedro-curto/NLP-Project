{
 "cells": [
  {
   "cell_type": "code",
   "execution_count": 1,
   "metadata": {},
   "outputs": [],
   "source": [
    "#!pip install keras tensorflow"
   ]
  },
  {
   "cell_type": "code",
   "execution_count": 2,
   "metadata": {},
   "outputs": [],
   "source": [
    "import numpy as np\n",
    "import pandas as pd\n",
    "import regex as re\n",
    "from sklearn.model_selection import train_test_split\n",
    "from sklearn.preprocessing import LabelEncoder\n",
    "from sklearn.feature_extraction.text import TfidfVectorizer\n",
    "from sklearn.metrics import accuracy_score, classification_report\n",
    "import matplotlib.pyplot as plt\n",
    "import seaborn as sns\n",
    "from sklearn.metrics import confusion_matrix"
   ]
  },
  {
   "cell_type": "code",
   "execution_count": 3,
   "metadata": {},
   "outputs": [
    {
     "data": {
      "text/html": [
       "<div>\n",
       "<style scoped>\n",
       "    .dataframe tbody tr th:only-of-type {\n",
       "        vertical-align: middle;\n",
       "    }\n",
       "\n",
       "    .dataframe tbody tr th {\n",
       "        vertical-align: top;\n",
       "    }\n",
       "\n",
       "    .dataframe thead th {\n",
       "        text-align: right;\n",
       "    }\n",
       "</style>\n",
       "<table border=\"1\" class=\"dataframe\">\n",
       "  <thead>\n",
       "    <tr style=\"text-align: right;\">\n",
       "      <th></th>\n",
       "      <th>Title</th>\n",
       "      <th>Origin</th>\n",
       "      <th>Genre</th>\n",
       "      <th>Director</th>\n",
       "      <th>Plot</th>\n",
       "    </tr>\n",
       "  </thead>\n",
       "  <tbody>\n",
       "    <tr>\n",
       "      <th>0</th>\n",
       "      <td>Ela Cheppanu</td>\n",
       "      <td>Telugu</td>\n",
       "      <td>romance</td>\n",
       "      <td>Ramana</td>\n",
       "      <td>Sekhar (Tarun) is a graduate from IIM and work...</td>\n",
       "    </tr>\n",
       "    <tr>\n",
       "      <th>1</th>\n",
       "      <td>A Nightmare on Elm Street</td>\n",
       "      <td>American</td>\n",
       "      <td>horror</td>\n",
       "      <td>Samuel Bayer</td>\n",
       "      <td>Kris Fowles (Katie Cassidy) goes to the Spring...</td>\n",
       "    </tr>\n",
       "    <tr>\n",
       "      <th>2</th>\n",
       "      <td>American Gothic</td>\n",
       "      <td>American</td>\n",
       "      <td>horror</td>\n",
       "      <td>John Hough</td>\n",
       "      <td>Cynthia is traumatized by the death of her bab...</td>\n",
       "    </tr>\n",
       "    <tr>\n",
       "      <th>3</th>\n",
       "      <td>Gang</td>\n",
       "      <td>Bollywood</td>\n",
       "      <td>crime</td>\n",
       "      <td>Mazhar Khan</td>\n",
       "      <td>Four friends, Gangu (Jackie Shroff), Abdul (Na...</td>\n",
       "    </tr>\n",
       "    <tr>\n",
       "      <th>4</th>\n",
       "      <td>Intimate Relations</td>\n",
       "      <td>British</td>\n",
       "      <td>drama</td>\n",
       "      <td>Charles Frank</td>\n",
       "      <td>Crisis in a middle-class family when the son f...</td>\n",
       "    </tr>\n",
       "  </tbody>\n",
       "</table>\n",
       "</div>"
      ],
      "text/plain": [
       "                       Title     Origin    Genre       Director  \\\n",
       "0               Ela Cheppanu     Telugu  romance         Ramana   \n",
       "1  A Nightmare on Elm Street   American   horror   Samuel Bayer   \n",
       "2            American Gothic   American   horror     John Hough   \n",
       "3                       Gang  Bollywood    crime    Mazhar Khan   \n",
       "4         Intimate Relations    British    drama  Charles Frank   \n",
       "\n",
       "                                                Plot  \n",
       "0  Sekhar (Tarun) is a graduate from IIM and work...  \n",
       "1  Kris Fowles (Katie Cassidy) goes to the Spring...  \n",
       "2  Cynthia is traumatized by the death of her bab...  \n",
       "3  Four friends, Gangu (Jackie Shroff), Abdul (Na...  \n",
       "4  Crisis in a middle-class family when the son f...  "
      ]
     },
     "execution_count": 3,
     "metadata": {},
     "output_type": "execute_result"
    }
   ],
   "source": [
    "data = pd.read_csv('../datasets/train.txt', sep='\\t', header=None, names=['Title', 'Origin', 'Genre', 'Director', 'Plot'])\n",
    "data.head()"
   ]
  },
  {
   "cell_type": "code",
   "execution_count": 4,
   "metadata": {},
   "outputs": [
    {
     "name": "stderr",
     "output_type": "stream",
     "text": [
      "<>:27: SyntaxWarning: invalid escape sequence '\\s'\n",
      "<>:27: SyntaxWarning: invalid escape sequence '\\s'\n",
      "/tmp/ipykernel_162422/1285755728.py:27: SyntaxWarning: invalid escape sequence '\\s'\n",
      "  text = re.sub('\\s+', ' ', text)\n"
     ]
    }
   ],
   "source": [
    "stop_words = [\"the\", \"to\", \"of\", \"a\", 'and', 'is', 'his', 'in', 'he', \n",
    "            'that', 'her', \"with\", \"by\", \"for\", \"him\", \"the\", \"as\", \"who\",\n",
    "            \"on\", \"she\", \"but\", \"from\", \"has\", \"they\", \"an\", \"at\", \"their\", \"are\",\n",
    "            \"into\", \"he\", \"out\", \"it\", \"up\", \"be\", \"was\", \"when\", \"not\", \"them\", \"which\",\n",
    "            \"then\", \"after\", \"about\", \"where\", \"one\", \"have\", \"When\", \"After\", \"tells\", \"him.\",\n",
    "            \"back\", \"She\", \"will\", \"while\", \"all\", \"two\", \"In\", \"had\", \"been\", \"They\",\n",
    "            \"get\", \"only\", \"also\", \"before\", \"off\", \"being\", \"As\", \"goes\", \"takes\",\n",
    "            \"this\", \"other\", \"take\", \"tries\", \"A\", \"her.\", \"go\", \"gets\", \"can\", \"man\", \"so\",\n",
    "            \"over\", \"through\", \"down\", \"help\", \"new\", \"him,\", \"now\", \"comes\", \"next\", \"himself\",\n",
    "            \"later\", \"however\", \"away\", \"there\", \"during\", \"both\", \"first\", \"again\", \"no\", \"way\", \"own\",\n",
    "            \"some\", \"another\", \"more\", \"becomes\", \"make\", \"does\", \"what\", \"begins\", \"meanwhile\", \"just\",\n",
    "            \"asks\", \"if\", \"because\", \"soon\", \"having\", \"its\", \"eventually\", \"come\", \"still\", \"between\", \"father\",\n",
    "            \"house\", \"finds\"\n",
    "            ]\n",
    "\n",
    "def preprocess_text(text):\n",
    "    text = text.lower()\n",
    "    text = re.sub(r\"what's\", \"what is \", text)\n",
    "    text = re.sub(r\"\\'s\", \" \", text)\n",
    "    text = re.sub(r\"\\'ve\", \" have \", text)\n",
    "    text = re.sub(r\"can't\", \"can not \", text)\n",
    "    text = re.sub(r\"n't\", \" not \", text)\n",
    "    text = re.sub(r\"i'm\", \"i am \", text)\n",
    "    text = re.sub(r\"\\'re\", \" are \", text)\n",
    "    text = re.sub(r\"\\'d\", \" would \", text)\n",
    "    text = re.sub(r\"\\'ll\", \" will \", text)\n",
    "    text = re.sub('\\s+', ' ', text)\n",
    "    text = re.sub(r\"[^a-zA-Z]\", \" \", text)\n",
    "    text = text.strip(' ')\n",
    "    tokens = text.split()\n",
    "    filtered = [word for word in tokens if word not in stop_words]\n",
    "    return ' '.join(filtered)\n",
    "\n",
    "data['Clean_Plot'] = data['Plot'].apply(preprocess_text)"
   ]
  },
  {
   "cell_type": "code",
   "execution_count": 5,
   "metadata": {},
   "outputs": [
    {
     "data": {
      "text/plain": [
       "0    sekhar tarun graduate iim works business manag...\n",
       "1    kris fowles katie cassidy springwood diner mee...\n",
       "2    cynthia traumatized death baby leaving bathtub...\n",
       "3    four friends gangu jackie shroff abdul nana pa...\n",
       "4    crisis middle class family son falls love mist...\n",
       "Name: Clean_Plot, dtype: object"
      ]
     },
     "execution_count": 5,
     "metadata": {},
     "output_type": "execute_result"
    }
   ],
   "source": [
    "# prints clean plot head\n",
    "\n",
    "data['Clean_Plot'].head()"
   ]
  },
  {
   "cell_type": "markdown",
   "metadata": {},
   "source": [
    "## Tf-idf will give us the embeddings"
   ]
  },
  {
   "cell_type": "code",
   "execution_count": 6,
   "metadata": {},
   "outputs": [],
   "source": [
    "train_data, test_data = train_test_split(data, test_size=0.2, random_state=42, stratify=data['Genre'], shuffle=True)\n",
    "train_data = train_data.reset_index(drop=True)\n",
    "test_data = test_data.reset_index(drop=True)\n",
    "\n",
    "label_encoder = LabelEncoder()\n",
    "label_encoder.fit(data['Genre'])\n",
    "\n",
    "y_train = label_encoder.transform(train_data['Genre'])\n",
    "y_test = label_encoder.transform(test_data['Genre'])\n",
    "\n",
    "# TF-IDF vectorization\n",
    "tfidf = TfidfVectorizer(min_df=20, stop_words=stop_words, ngram_range=(1, 3))\n",
    "X_train = tfidf.fit_transform(train_data['Clean_Plot'])\n",
    "X_test = tfidf.transform(test_data['Clean_Plot'])\n"
   ]
  },
  {
   "cell_type": "code",
   "execution_count": 7,
   "metadata": {},
   "outputs": [
    {
     "name": "stdout",
     "output_type": "stream",
     "text": [
      "Accuracy: 0.6500932256059664\n",
      "Classification Report:\n",
      "               precision    recall  f1-score   support\n",
      "\n",
      "      action       0.64      0.66      0.65       212\n",
      "   animation       0.80      0.56      0.66       107\n",
      "      comedy       0.60      0.55      0.57       239\n",
      "       crime       0.63      0.42      0.50       108\n",
      "       drama       0.53      0.61      0.57       335\n",
      "      horror       0.77      0.87      0.82       222\n",
      "     romance       0.54      0.55      0.55       177\n",
      "      sci-fi       0.70      0.44      0.54        43\n",
      "     western       0.87      0.93      0.90       166\n",
      "\n",
      "    accuracy                           0.65      1609\n",
      "   macro avg       0.68      0.62      0.64      1609\n",
      "weighted avg       0.65      0.65      0.65      1609\n",
      "\n"
     ]
    },
    {
     "data": {
      "image/png": "[encoded data removed]",
      "text/plain": [
       "<Figure size 1000x800 with 2 Axes>"
      ]
     },
     "metadata": {},
     "output_type": "display_data"
    }
   ],
   "source": [
    "from sklearn.naive_bayes import MultinomialNB\n",
    "\n",
    "# adjusting alpha got me way better results to avoid smoothing a lot\n",
    "nb_classifier = MultinomialNB(alpha=0.1)\n",
    "nb_classifier.fit(X_train, y_train)\n",
    "\n",
    "y_pred = nb_classifier.predict(X_test)\n",
    "\n",
    "print(\"Accuracy:\", accuracy_score(y_test, y_pred))\n",
    "print(\"Classification Report:\\n\", classification_report(y_test, y_pred, target_names=label_encoder.classes_))\n",
    "conf_matrix = confusion_matrix(y_test, y_pred)\n",
    "plt.figure(figsize=(10, 8))\n",
    "sns.heatmap(conf_matrix, annot=True, fmt='d', xticklabels=label_encoder.classes_, yticklabels=label_encoder.classes_)\n",
    "plt.ylabel('Actual')\n",
    "plt.xlabel('Predicted')\n",
    "plt.show()"
   ]
  },
  {
   "cell_type": "markdown",
   "metadata": {},
   "source": [
    "## Let's analyze the mispredictions"
   ]
  },
  {
   "cell_type": "code",
   "execution_count": 8,
   "metadata": {},
   "outputs": [
    {
     "name": "stdout",
     "output_type": "stream",
     "text": [
      "\n",
      "Sample mispredictions:\n"
     ]
    }
   ],
   "source": [
    "y_test_decoded = label_encoder.inverse_transform(y_test)\n",
    "y_pred_decoded = label_encoder.inverse_transform(y_pred)\n",
    "\n",
    "misclassified_indices = np.where(y_pred != y_test)[0]\n",
    "\n",
    "mispredictions_df = pd.DataFrame({\n",
    "    'Plot': test_data['Plot'].iloc[misclassified_indices].values,\n",
    "    'Clean Plot': test_data['Clean_Plot'].iloc[misclassified_indices].values,\n",
    "    'True Genre': y_test_decoded[misclassified_indices],\n",
    "    'Predicted Genre': y_pred_decoded[misclassified_indices]\n",
    "})\n",
    "\n",
    "# displays a sample of them\n",
    "print(\"\\nSample mispredictions:\")\n",
    "mispredictions_df.head()\n",
    "\n",
    "# writes them to a file\n",
    "mispredictions_df.to_csv('mispredictions.csv', index=False)"
   ]
  },
  {
   "cell_type": "markdown",
   "metadata": {},
   "source": [
    "## Testing Time (these won't be the submitted predictions)"
   ]
  },
  {
   "cell_type": "code",
   "execution_count": 9,
   "metadata": {},
   "outputs": [
    {
     "data": {
      "text/html": [
       "<div>\n",
       "<style scoped>\n",
       "    .dataframe tbody tr th:only-of-type {\n",
       "        vertical-align: middle;\n",
       "    }\n",
       "\n",
       "    .dataframe tbody tr th {\n",
       "        vertical-align: top;\n",
       "    }\n",
       "\n",
       "    .dataframe thead th {\n",
       "        text-align: right;\n",
       "    }\n",
       "</style>\n",
       "<table border=\"1\" class=\"dataframe\">\n",
       "  <thead>\n",
       "    <tr style=\"text-align: right;\">\n",
       "      <th></th>\n",
       "      <th>Title</th>\n",
       "      <th>Origin</th>\n",
       "      <th>Director</th>\n",
       "      <th>Plot</th>\n",
       "    </tr>\n",
       "  </thead>\n",
       "  <tbody>\n",
       "    <tr>\n",
       "      <th>0</th>\n",
       "      <td>Bava Nachadu</td>\n",
       "      <td>Telugu</td>\n",
       "      <td>KS Ravikumar</td>\n",
       "      <td>Ajay (Nagarjuna Akkineni) is an adman (directo...</td>\n",
       "    </tr>\n",
       "    <tr>\n",
       "      <th>1</th>\n",
       "      <td>Quick</td>\n",
       "      <td>South_Korean</td>\n",
       "      <td>Unknown</td>\n",
       "      <td>Seoul, 2004. A group of bikers are joy-riding ...</td>\n",
       "    </tr>\n",
       "    <tr>\n",
       "      <th>2</th>\n",
       "      <td>Doraemon: Nobita's Great Battle of the Mermaid...</td>\n",
       "      <td>Japanese</td>\n",
       "      <td>Unknown</td>\n",
       "      <td>The film opens with a sunken ship, in which a ...</td>\n",
       "    </tr>\n",
       "    <tr>\n",
       "      <th>3</th>\n",
       "      <td>Little School Mouse</td>\n",
       "      <td>American</td>\n",
       "      <td>Hanna-Barbera</td>\n",
       "      <td>Jerry decides to school Tuffy in the basics of...</td>\n",
       "    </tr>\n",
       "    <tr>\n",
       "      <th>4</th>\n",
       "      <td>The Little Damozel</td>\n",
       "      <td>British</td>\n",
       "      <td>Herbert Wilcox</td>\n",
       "      <td>Gambler Recky Poole (James Rennie) accepts a b...</td>\n",
       "    </tr>\n",
       "  </tbody>\n",
       "</table>\n",
       "</div>"
      ],
      "text/plain": [
       "                                               Title        Origin  \\\n",
       "0                                       Bava Nachadu        Telugu   \n",
       "1                                              Quick  South_Korean   \n",
       "2  Doraemon: Nobita's Great Battle of the Mermaid...      Japanese   \n",
       "3                                Little School Mouse      American   \n",
       "4                                 The Little Damozel       British   \n",
       "\n",
       "         Director                                               Plot  \n",
       "0    KS Ravikumar  Ajay (Nagarjuna Akkineni) is an adman (directo...  \n",
       "1         Unknown  Seoul, 2004. A group of bikers are joy-riding ...  \n",
       "2         Unknown  The film opens with a sunken ship, in which a ...  \n",
       "3   Hanna-Barbera  Jerry decides to school Tuffy in the basics of...  \n",
       "4  Herbert Wilcox  Gambler Recky Poole (James Rennie) accepts a b...  "
      ]
     },
     "execution_count": 9,
     "metadata": {},
     "output_type": "execute_result"
    }
   ],
   "source": [
    "test_data = pd.read_csv('../datasets/test_no_labels.txt', \n",
    "                        sep='\\t', header=None, names=['Title', 'Origin', 'Director', 'Plot'])\n",
    "\n",
    "test_data.head()"
   ]
  },
  {
   "cell_type": "code",
   "execution_count": 10,
   "metadata": {},
   "outputs": [
    {
     "data": {
      "text/plain": [
       "0    ajay nagarjuna akkineni adman director actor d...\n",
       "1    seoul group bikers joy riding streets leader t...\n",
       "2    film opens sunken ship shark swimming octopus ...\n",
       "3    jerry decides school tuffy basics outwitting c...\n",
       "4    gambler recky poole james rennie accepts bet m...\n",
       "Name: Clean_Plot, dtype: object"
      ]
     },
     "execution_count": 10,
     "metadata": {},
     "output_type": "execute_result"
    }
   ],
   "source": [
    "# preprocess exactly the same as the training set was preprocessed\n",
    "test_data['Clean_Plot'] = test_data['Plot'].apply(preprocess_text)\n",
    "test_data['Clean_Plot'].head()"
   ]
  },
  {
   "cell_type": "code",
   "execution_count": 11,
   "metadata": {},
   "outputs": [
    {
     "data": {
      "text/plain": [
       "array(['romance', 'action', 'animation', 'animation', 'comedy'],\n",
       "      dtype=object)"
      ]
     },
     "execution_count": 11,
     "metadata": {},
     "output_type": "execute_result"
    }
   ],
   "source": [
    "# transform the test data using the same TfidfVectorizer\n",
    "X_test = tfidf.transform(test_data['Clean_Plot']).toarray()\n",
    "\n",
    "# predict the genres of the test data\n",
    "y_pred = nb_classifier.predict(X_test)\n",
    "y_pred = label_encoder.inverse_transform(y_pred)\n",
    "y_pred[:5]"
   ]
  },
  {
   "cell_type": "code",
   "execution_count": 12,
   "metadata": {},
   "outputs": [],
   "source": [
    "# save the predictions to a file -- the only content of the file should be a single word with the predicted genre per line\n",
    "\n",
    "with open('predictions.txt', 'w') as f:\n",
    "    for genre in y_pred:\n",
    "        f.write(genre + '\\n')"
   ]
  }
 ],
 "metadata": {
  "kernelspec": {
   "display_name": ".venv",
   "language": "python",
   "name": "python3"
  },
  "language_info": {
   "codemirror_mode": {
    "name": "ipython",
    "version": 3
   },
   "file_extension": ".py",
   "mimetype": "text/x-python",
   "name": "python",
   "nbconvert_exporter": "python",
   "pygments_lexer": "ipython3",
   "version": "3.12.6"
  }
 },
 "nbformat": 4,
 "nbformat_minor": 2
}
